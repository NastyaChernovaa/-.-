{
 "cells": [
  {
   "cell_type": "markdown",
   "id": "c86da78a",
   "metadata": {},
   "source": [
    "## K-means"
   ]
  },
  {
   "cell_type": "code",
   "execution_count": 18,
   "id": "abba2e91",
   "metadata": {},
   "outputs": [],
   "source": [
    "import numpy as np\n",
    "import pandas as pd\n",
    "import matplotlib.pyplot as plt"
   ]
  },
  {
   "cell_type": "code",
   "execution_count": 72,
   "id": "047ce240",
   "metadata": {},
   "outputs": [
    {
     "data": {
      "text/html": [
       "<div>\n",
       "<style scoped>\n",
       "    .dataframe tbody tr th:only-of-type {\n",
       "        vertical-align: middle;\n",
       "    }\n",
       "\n",
       "    .dataframe tbody tr th {\n",
       "        vertical-align: top;\n",
       "    }\n",
       "\n",
       "    .dataframe thead th {\n",
       "        text-align: right;\n",
       "    }\n",
       "</style>\n",
       "<table border=\"1\" class=\"dataframe\">\n",
       "  <thead>\n",
       "    <tr style=\"text-align: right;\">\n",
       "      <th></th>\n",
       "      <th>x_0</th>\n",
       "      <th>x_1</th>\n",
       "    </tr>\n",
       "  </thead>\n",
       "  <tbody>\n",
       "    <tr>\n",
       "      <th>0</th>\n",
       "      <td>0.001377</td>\n",
       "      <td>-0.312330</td>\n",
       "    </tr>\n",
       "    <tr>\n",
       "      <th>1</th>\n",
       "      <td>0.013704</td>\n",
       "      <td>-0.027573</td>\n",
       "    </tr>\n",
       "    <tr>\n",
       "      <th>2</th>\n",
       "      <td>0.052899</td>\n",
       "      <td>-0.187180</td>\n",
       "    </tr>\n",
       "    <tr>\n",
       "      <th>3</th>\n",
       "      <td>-0.106739</td>\n",
       "      <td>0.048862</td>\n",
       "    </tr>\n",
       "    <tr>\n",
       "      <th>4</th>\n",
       "      <td>0.041890</td>\n",
       "      <td>0.121760</td>\n",
       "    </tr>\n",
       "    <tr>\n",
       "      <th>...</th>\n",
       "      <td>...</td>\n",
       "      <td>...</td>\n",
       "    </tr>\n",
       "    <tr>\n",
       "      <th>95</th>\n",
       "      <td>0.042901</td>\n",
       "      <td>-0.176575</td>\n",
       "    </tr>\n",
       "    <tr>\n",
       "      <th>96</th>\n",
       "      <td>-0.043968</td>\n",
       "      <td>-0.371420</td>\n",
       "    </tr>\n",
       "    <tr>\n",
       "      <th>97</th>\n",
       "      <td>0.052376</td>\n",
       "      <td>-0.066440</td>\n",
       "    </tr>\n",
       "    <tr>\n",
       "      <th>98</th>\n",
       "      <td>-0.036547</td>\n",
       "      <td>0.584502</td>\n",
       "    </tr>\n",
       "    <tr>\n",
       "      <th>99</th>\n",
       "      <td>0.031266</td>\n",
       "      <td>-0.176384</td>\n",
       "    </tr>\n",
       "  </tbody>\n",
       "</table>\n",
       "<p>100 rows × 2 columns</p>\n",
       "</div>"
      ],
      "text/plain": [
       "         x_0       x_1\n",
       "0   0.001377 -0.312330\n",
       "1   0.013704 -0.027573\n",
       "2   0.052899 -0.187180\n",
       "3  -0.106739  0.048862\n",
       "4   0.041890  0.121760\n",
       "..       ...       ...\n",
       "95  0.042901 -0.176575\n",
       "96 -0.043968 -0.371420\n",
       "97  0.052376 -0.066440\n",
       "98 -0.036547  0.584502\n",
       "99  0.031266 -0.176384\n",
       "\n",
       "[100 rows x 2 columns]"
      ]
     },
     "execution_count": 72,
     "metadata": {},
     "output_type": "execute_result"
    }
   ],
   "source": [
    "df = pd.read_csv('train.csv').drop(['index'], axis=1)\n",
    "df = df[['x_0', 'x_1']].head(100)\n",
    "df"
   ]
  },
  {
   "cell_type": "code",
   "execution_count": 73,
   "id": "fffa5735",
   "metadata": {},
   "outputs": [],
   "source": [
    "X = np.array(df)"
   ]
  },
  {
   "cell_type": "markdown",
   "id": "6c3e49e7",
   "metadata": {},
   "source": [
    "Попробуем выделить три кластера. "
   ]
  },
  {
   "cell_type": "code",
   "execution_count": 74,
   "id": "03586c18",
   "metadata": {},
   "outputs": [],
   "source": [
    "# Шаг 1: Выбираем число кластеров k\n",
    "k = 3"
   ]
  },
  {
   "cell_type": "code",
   "execution_count": 75,
   "id": "c318f40f",
   "metadata": {},
   "outputs": [
    {
     "data": {
      "text/plain": [
       "array([83, 30, 56])"
      ]
     },
     "execution_count": 75,
     "metadata": {},
     "output_type": "execute_result"
    }
   ],
   "source": [
    "# Шаг 2: Выбираем k случайных значений (точек, центроидов)\n",
    "np.random.seed(2)\n",
    "centroidd_id = np.random.choice(X.shape[0], k, replace=False) #replace=False - точки без повторений\n",
    "centroidd_id"
   ]
  },
  {
   "cell_type": "code",
   "execution_count": 76,
   "id": "b3c4a275",
   "metadata": {},
   "outputs": [
    {
     "data": {
      "text/plain": [
       "array([[-0.0164101 ,  0.13093701],\n",
       "       [-0.1114876 ,  0.01196211],\n",
       "       [-0.1239887 , -0.11231261]])"
      ]
     },
     "execution_count": 76,
     "metadata": {},
     "output_type": "execute_result"
    }
   ],
   "source": [
    "centroids = X[centroidd_id]\n",
    "centroids"
   ]
  },
  {
   "cell_type": "code",
   "execution_count": 77,
   "id": "7c6a4efe",
   "metadata": {},
   "outputs": [
    {
     "data": {
      "text/plain": [
       "array([0.44362403, 0.34337141, 0.2360584 ])"
      ]
     },
     "execution_count": 77,
     "metadata": {},
     "output_type": "execute_result"
    }
   ],
   "source": [
    "# Шаг 3: Создаем k кластеров: относим каждую точку к кластеру, к центру которого она ближе\n",
    "idx_1 = 0 \n",
    "np.linalg.norm(centroids - X[0], axis=1) #евклидово расстояние"
   ]
  },
  {
   "cell_type": "code",
   "execution_count": 78,
   "id": "c5ad7c3a",
   "metadata": {},
   "outputs": [
    {
     "data": {
      "text/plain": [
       "{0: [], 1: [], 2: []}"
      ]
     },
     "execution_count": 78,
     "metadata": {},
     "output_type": "execute_result"
    }
   ],
   "source": [
    "clusters = {i: [] for i in range(k)}\n",
    "clusters"
   ]
  },
  {
   "cell_type": "code",
   "execution_count": 79,
   "id": "da9847d0",
   "metadata": {},
   "outputs": [
    {
     "data": {
      "text/plain": [
       "{0: [array([0.04189022, 0.12176042]),\n",
       "  array([-0.00366688,  0.06810156]),\n",
       "  array([-0.00745486,  0.0786887 ]),\n",
       "  array([-0.03355507,  0.16201834]),\n",
       "  array([0.04436351, 0.09402095]),\n",
       "  array([-0.05591833,  0.5972369 ]),\n",
       "  array([-0.00743656,  0.16972911]),\n",
       "  array([0.0792793, 0.2097884]),\n",
       "  array([-0.0074243 ,  0.19244531]),\n",
       "  array([-0.02570546,  0.04901224]),\n",
       "  array([-0.03700836,  0.6714787 ]),\n",
       "  array([0.06534123, 0.4234762 ]),\n",
       "  array([0.08514876, 0.09001365]),\n",
       "  array([0.01337011, 0.1620346 ]),\n",
       "  array([-0.00543568,  0.14880796]),\n",
       "  array([ 0.03957844, -0.00704764]),\n",
       "  array([-0.08298477,  0.31393093]),\n",
       "  array([0.03130806, 0.15252323]),\n",
       "  array([-0.05440154,  0.1386931 ]),\n",
       "  array([0.03005235, 0.18631707]),\n",
       "  array([0.0193193 , 0.22401619]),\n",
       "  array([-0.02169619,  0.4885225 ]),\n",
       "  array([0.00183747, 0.23569678]),\n",
       "  array([-0.06194757,  0.3017113 ]),\n",
       "  array([0.00023287, 0.20723954]),\n",
       "  array([-0.12123806,  0.22248346]),\n",
       "  array([-0.00972699,  0.3127796 ]),\n",
       "  array([0.10703822, 0.22385429]),\n",
       "  array([-0.00165325,  0.03073449]),\n",
       "  array([0.04258519, 0.1899316 ]),\n",
       "  array([-0.0611777 ,  0.09200809]),\n",
       "  array([0.02807945, 0.12641424]),\n",
       "  array([0.04367058, 0.10800817]),\n",
       "  array([-0.04861336,  0.1348513 ]),\n",
       "  array([-0.0164101 ,  0.13093701]),\n",
       "  array([-0.04701951,  0.06119217]),\n",
       "  array([0.05545196, 0.22058177]),\n",
       "  array([-0.00666147,  0.12946992]),\n",
       "  array([-0.04927409,  0.46033078]),\n",
       "  array([0.04885903, 0.13065954]),\n",
       "  array([0.00108828, 0.1200698 ]),\n",
       "  array([0.11772438, 0.082686  ]),\n",
       "  array([-0.03654671,  0.58450216])],\n",
       " 1: [array([ 0.01370416, -0.02757311]),\n",
       "  array([-0.10673882,  0.04886207]),\n",
       "  array([-0.02898422,  0.03316122]),\n",
       "  array([-0.07294127,  0.03453097]),\n",
       "  array([-0.05232262,  0.03899595]),\n",
       "  array([-0.06235881, -0.03289148]),\n",
       "  array([ 0.03643696, -0.02540148]),\n",
       "  array([-0.1114876 ,  0.01196211]),\n",
       "  array([ 0.00150756, -0.03035152]),\n",
       "  array([ 0.08452653, -0.06799388]),\n",
       "  array([-0.06444215,  0.02356948]),\n",
       "  array([ 0.03002832, -0.06448294]),\n",
       "  array([ 0.0242711 , -0.03691905]),\n",
       "  array([ 0.05363191, -0.05291281]),\n",
       "  array([-0.0705739 , -0.00825927]),\n",
       "  array([-0.00810349, -0.05679525]),\n",
       "  array([-0.04390939,  0.01993247]),\n",
       "  array([ 0.05237562, -0.06644036])],\n",
       " 2: [array([ 0.00137673, -0.3123303 ]),\n",
       "  array([ 0.05289916, -0.1871799 ]),\n",
       "  array([ 0.17760374, -0.44252324]),\n",
       "  array([ 0.01166707, -0.27560502]),\n",
       "  array([ 0.04803289, -0.09278148]),\n",
       "  array([-0.01516325, -0.27074304]),\n",
       "  array([ 0.08651198, -0.08398654]),\n",
       "  array([-0.10282177, -0.11278091]),\n",
       "  array([ 0.06904814, -0.46672443]),\n",
       "  array([-0.04800853, -0.12871635]),\n",
       "  array([ 0.09527457, -0.17705475]),\n",
       "  array([ 0.12773722, -0.4715052 ]),\n",
       "  array([-0.02076731, -0.39359406]),\n",
       "  array([ 0.04731803, -0.2716256 ]),\n",
       "  array([ 0.01534298, -0.14792274]),\n",
       "  array([ 0.05382657, -0.11199246]),\n",
       "  array([ 0.04668409, -0.49644426]),\n",
       "  array([-0.04891214, -0.24196403]),\n",
       "  array([ 0.12032013, -0.090555  ]),\n",
       "  array([-0.04192265, -0.56965774]),\n",
       "  array([-0.03126644, -0.3459379 ]),\n",
       "  array([ 0.0753515, -0.1112385]),\n",
       "  array([-0.1239887 , -0.11231261]),\n",
       "  array([ 0.10922363, -0.10878919]),\n",
       "  array([ 0.00645598, -0.35812286]),\n",
       "  array([-0.11704779, -0.6254945 ]),\n",
       "  array([-0.01563264, -0.23483801]),\n",
       "  array([ 0.0219765 , -0.26584476]),\n",
       "  array([ 0.0218583 , -0.24958858]),\n",
       "  array([-0.0058147 , -0.20030518]),\n",
       "  array([ 0.03543825, -0.18396387]),\n",
       "  array([ 0.07635478, -0.14820601]),\n",
       "  array([ 0.00318832, -0.31157973]),\n",
       "  array([-0.06031087, -0.4933244 ]),\n",
       "  array([-0.06370265, -0.3257831 ]),\n",
       "  array([-0.01050368, -0.39384344]),\n",
       "  array([ 0.04290076, -0.17657539]),\n",
       "  array([-0.04396755, -0.3714201 ]),\n",
       "  array([ 0.03126592, -0.17638366])]}"
      ]
     },
     "execution_count": 79,
     "metadata": {},
     "output_type": "execute_result"
    }
   ],
   "source": [
    "for i in X:\n",
    "    dist = np.linalg.norm(centroids - i, axis=1)\n",
    "    g = dist.argmin()\n",
    "    clusters[g].append(i)\n",
    "clusters"
   ]
  },
  {
   "cell_type": "code",
   "execution_count": 80,
   "id": "1f2c4850",
   "metadata": {},
   "outputs": [
    {
     "name": "stdout",
     "output_type": "stream",
     "text": [
      "43 18 39\n"
     ]
    }
   ],
   "source": [
    "print(len(clusters[0]), len(clusters[1]), len(clusters[2]))"
   ]
  },
  {
   "cell_type": "code",
   "execution_count": 81,
   "id": "3c08e5d2",
   "metadata": {},
   "outputs": [
    {
     "data": {
      "text/plain": [
       "{0: array([0.00216888, 0.20562117]),\n",
       " 1: array([-0.01807667, -0.01438927]),\n",
       " 2: array([ 0.01609812, -0.27023689])}"
      ]
     },
     "execution_count": 81,
     "metadata": {},
     "output_type": "execute_result"
    }
   ],
   "source": [
    "# Шаг 4: Вычисляем новый центроид каждого кластера («средняя координата»)\n",
    "new_centroids = {}\n",
    "for i in clusters:\n",
    "    new_centroids[i] = np.mean(clusters[i], axis=0)\n",
    "new_centroids"
   ]
  },
  {
   "cell_type": "code",
   "execution_count": 82,
   "id": "6723c1f7",
   "metadata": {},
   "outputs": [],
   "source": [
    "# Проверка на сходимость (если центроиды не изменились, то алгоритм сошелся)\n",
    "new_centroids = dict(sorted(new_centroids.items()))\n",
    "new_centroids = np.array(list(new_centroids.values()))"
   ]
  },
  {
   "cell_type": "code",
   "execution_count": 83,
   "id": "5c7d9d25",
   "metadata": {},
   "outputs": [],
   "source": [
    "stop = True\n",
    "for i in range(len(centroids)):\n",
    "    if np.linalg.norm(centroids[i] - new_centroids[i]) > 1e-4:\n",
    "        stop = False\n",
    "    if stop:\n",
    "        break"
   ]
  },
  {
   "cell_type": "code",
   "execution_count": 84,
   "id": "4cd2c415",
   "metadata": {},
   "outputs": [
    {
     "data": {
      "text/plain": [
       "array([[-0.0164101 ,  0.13093701],\n",
       "       [-0.1114876 ,  0.01196211],\n",
       "       [-0.1239887 , -0.11231261]])"
      ]
     },
     "execution_count": 84,
     "metadata": {},
     "output_type": "execute_result"
    }
   ],
   "source": [
    "centroids"
   ]
  },
  {
   "cell_type": "code",
   "execution_count": 85,
   "id": "47853046",
   "metadata": {},
   "outputs": [
    {
     "data": {
      "text/plain": [
       "{0: [array([0.04189022, 0.12176042]),\n",
       "  array([-0.00366688,  0.06810156]),\n",
       "  array([-0.00745486,  0.0786887 ]),\n",
       "  array([-0.03355507,  0.16201834]),\n",
       "  array([0.04436351, 0.09402095]),\n",
       "  array([-0.05591833,  0.5972369 ]),\n",
       "  array([-0.00743656,  0.16972911]),\n",
       "  array([0.0792793, 0.2097884]),\n",
       "  array([-0.0074243 ,  0.19244531]),\n",
       "  array([-0.02570546,  0.04901224]),\n",
       "  array([-0.03700836,  0.6714787 ]),\n",
       "  array([0.06534123, 0.4234762 ]),\n",
       "  array([0.08514876, 0.09001365]),\n",
       "  array([0.01337011, 0.1620346 ]),\n",
       "  array([-0.00543568,  0.14880796]),\n",
       "  array([ 0.03957844, -0.00704764]),\n",
       "  array([-0.08298477,  0.31393093]),\n",
       "  array([0.03130806, 0.15252323]),\n",
       "  array([-0.05440154,  0.1386931 ]),\n",
       "  array([0.03005235, 0.18631707]),\n",
       "  array([0.0193193 , 0.22401619]),\n",
       "  array([-0.02169619,  0.4885225 ]),\n",
       "  array([0.00183747, 0.23569678]),\n",
       "  array([-0.06194757,  0.3017113 ]),\n",
       "  array([0.00023287, 0.20723954]),\n",
       "  array([-0.12123806,  0.22248346]),\n",
       "  array([-0.00972699,  0.3127796 ]),\n",
       "  array([0.10703822, 0.22385429]),\n",
       "  array([-0.00165325,  0.03073449]),\n",
       "  array([0.04258519, 0.1899316 ]),\n",
       "  array([-0.0611777 ,  0.09200809]),\n",
       "  array([0.02807945, 0.12641424]),\n",
       "  array([0.04367058, 0.10800817]),\n",
       "  array([-0.04861336,  0.1348513 ]),\n",
       "  array([-0.0164101 ,  0.13093701]),\n",
       "  array([-0.04701951,  0.06119217]),\n",
       "  array([0.05545196, 0.22058177]),\n",
       "  array([-0.00666147,  0.12946992]),\n",
       "  array([-0.04927409,  0.46033078]),\n",
       "  array([0.04885903, 0.13065954]),\n",
       "  array([0.00108828, 0.1200698 ]),\n",
       "  array([0.11772438, 0.082686  ]),\n",
       "  array([-0.03654671,  0.58450216])],\n",
       " 1: [array([ 0.01370416, -0.02757311]),\n",
       "  array([-0.10673882,  0.04886207]),\n",
       "  array([-0.02898422,  0.03316122]),\n",
       "  array([-0.07294127,  0.03453097]),\n",
       "  array([-0.05232262,  0.03899595]),\n",
       "  array([-0.06235881, -0.03289148]),\n",
       "  array([ 0.03643696, -0.02540148]),\n",
       "  array([-0.1114876 ,  0.01196211]),\n",
       "  array([ 0.00150756, -0.03035152]),\n",
       "  array([ 0.08452653, -0.06799388]),\n",
       "  array([-0.06444215,  0.02356948]),\n",
       "  array([ 0.03002832, -0.06448294]),\n",
       "  array([ 0.0242711 , -0.03691905]),\n",
       "  array([ 0.05363191, -0.05291281]),\n",
       "  array([-0.0705739 , -0.00825927]),\n",
       "  array([-0.00810349, -0.05679525]),\n",
       "  array([-0.04390939,  0.01993247]),\n",
       "  array([ 0.05237562, -0.06644036])],\n",
       " 2: [array([ 0.00137673, -0.3123303 ]),\n",
       "  array([ 0.05289916, -0.1871799 ]),\n",
       "  array([ 0.17760374, -0.44252324]),\n",
       "  array([ 0.01166707, -0.27560502]),\n",
       "  array([ 0.04803289, -0.09278148]),\n",
       "  array([-0.01516325, -0.27074304]),\n",
       "  array([ 0.08651198, -0.08398654]),\n",
       "  array([-0.10282177, -0.11278091]),\n",
       "  array([ 0.06904814, -0.46672443]),\n",
       "  array([-0.04800853, -0.12871635]),\n",
       "  array([ 0.09527457, -0.17705475]),\n",
       "  array([ 0.12773722, -0.4715052 ]),\n",
       "  array([-0.02076731, -0.39359406]),\n",
       "  array([ 0.04731803, -0.2716256 ]),\n",
       "  array([ 0.01534298, -0.14792274]),\n",
       "  array([ 0.05382657, -0.11199246]),\n",
       "  array([ 0.04668409, -0.49644426]),\n",
       "  array([-0.04891214, -0.24196403]),\n",
       "  array([ 0.12032013, -0.090555  ]),\n",
       "  array([-0.04192265, -0.56965774]),\n",
       "  array([-0.03126644, -0.3459379 ]),\n",
       "  array([ 0.0753515, -0.1112385]),\n",
       "  array([-0.1239887 , -0.11231261]),\n",
       "  array([ 0.10922363, -0.10878919]),\n",
       "  array([ 0.00645598, -0.35812286]),\n",
       "  array([-0.11704779, -0.6254945 ]),\n",
       "  array([-0.01563264, -0.23483801]),\n",
       "  array([ 0.0219765 , -0.26584476]),\n",
       "  array([ 0.0218583 , -0.24958858]),\n",
       "  array([-0.0058147 , -0.20030518]),\n",
       "  array([ 0.03543825, -0.18396387]),\n",
       "  array([ 0.07635478, -0.14820601]),\n",
       "  array([ 0.00318832, -0.31157973]),\n",
       "  array([-0.06031087, -0.4933244 ]),\n",
       "  array([-0.06370265, -0.3257831 ]),\n",
       "  array([-0.01050368, -0.39384344]),\n",
       "  array([ 0.04290076, -0.17657539]),\n",
       "  array([-0.04396755, -0.3714201 ]),\n",
       "  array([ 0.03126592, -0.17638366])]}"
      ]
     },
     "execution_count": 85,
     "metadata": {},
     "output_type": "execute_result"
    }
   ],
   "source": [
    "clusters"
   ]
  },
  {
   "cell_type": "code",
   "execution_count": 86,
   "id": "9fbc82e4",
   "metadata": {},
   "outputs": [
    {
     "name": "stdout",
     "output_type": "stream",
     "text": [
      "43 18 39\n"
     ]
    }
   ],
   "source": [
    "print(len(clusters[0]), len(clusters[1]), len(clusters[2]))"
   ]
  }
 ],
 "metadata": {
  "kernelspec": {
   "display_name": "Python 3 (ipykernel)",
   "language": "python",
   "name": "python3"
  },
  "language_info": {
   "codemirror_mode": {
    "name": "ipython",
    "version": 3
   },
   "file_extension": ".py",
   "mimetype": "text/x-python",
   "name": "python",
   "nbconvert_exporter": "python",
   "pygments_lexer": "ipython3",
   "version": "3.9.13"
  }
 },
 "nbformat": 4,
 "nbformat_minor": 5
}
