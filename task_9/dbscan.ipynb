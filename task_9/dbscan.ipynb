{
 "cells": [
  {
   "cell_type": "markdown",
   "id": "58a5dedd",
   "metadata": {},
   "source": [
    "## DBSCAN"
   ]
  },
  {
   "cell_type": "code",
   "execution_count": 1,
   "id": "8d082f30",
   "metadata": {},
   "outputs": [],
   "source": [
    "import numpy as np\n",
    "import pandas as pd"
   ]
  },
  {
   "cell_type": "code",
   "execution_count": 13,
   "id": "c4c69115",
   "metadata": {},
   "outputs": [],
   "source": [
    "def dbscan(df, m, distance):\n",
    "    NOISE = 0 #метка для шумовых точек\n",
    "    C = 0 #счетчик кластеров\n",
    "    visited = set() #для отслеживания посещенных точек\n",
    "    clustered = set() #для точек, которые уже в кластерах\n",
    "    clusters = {NOISE: []}\n",
    "\n",
    "    def region_query(p):\n",
    "        return [q for q in df.index if distance(df.loc[p], df.loc[q]) < 6]\n",
    "\n",
    "    def expand_cluster(p, neighbours):\n",
    "        if C not in clusters:\n",
    "            clusters[C] = []\n",
    "        clusters[C].append(p)\n",
    "        clustered.add(p)\n",
    "        for q in neighbours:\n",
    "            if q not in visited:\n",
    "                visited.add(q)\n",
    "                neighbourz = region_query(q)\n",
    "                if len(neighbourz) > m:\n",
    "                    neighbours.extend(neighbourz)\n",
    "            if q not in clustered:\n",
    "                clustered.add(q)\n",
    "                clusters[C].append(q)\n",
    "                if q in clusters[NOISE]:\n",
    "                    clusters[NOISE].remove(q)\n",
    "\n",
    "    for p in df.index:\n",
    "        if p in visited:\n",
    "            continue\n",
    "        visited.add(p)\n",
    "        neighbours = region_query(p)\n",
    "        if len(neighbours) < m:\n",
    "            clusters[NOISE].append(p)\n",
    "        else:\n",
    "            C += 1\n",
    "            expand_cluster(p, neighbours)\n",
    "\n",
    "    return clusters"
   ]
  },
  {
   "cell_type": "code",
   "execution_count": 3,
   "id": "b5f9925e",
   "metadata": {},
   "outputs": [
    {
     "data": {
      "text/html": [
       "<div>\n",
       "<style scoped>\n",
       "    .dataframe tbody tr th:only-of-type {\n",
       "        vertical-align: middle;\n",
       "    }\n",
       "\n",
       "    .dataframe tbody tr th {\n",
       "        vertical-align: top;\n",
       "    }\n",
       "\n",
       "    .dataframe thead th {\n",
       "        text-align: right;\n",
       "    }\n",
       "</style>\n",
       "<table border=\"1\" class=\"dataframe\">\n",
       "  <thead>\n",
       "    <tr style=\"text-align: right;\">\n",
       "      <th></th>\n",
       "      <th>x</th>\n",
       "      <th>y</th>\n",
       "    </tr>\n",
       "  </thead>\n",
       "  <tbody>\n",
       "    <tr>\n",
       "      <th>0</th>\n",
       "      <td>64</td>\n",
       "      <td>150</td>\n",
       "    </tr>\n",
       "    <tr>\n",
       "      <th>1</th>\n",
       "      <td>84</td>\n",
       "      <td>112</td>\n",
       "    </tr>\n",
       "    <tr>\n",
       "      <th>2</th>\n",
       "      <td>106</td>\n",
       "      <td>90</td>\n",
       "    </tr>\n",
       "    <tr>\n",
       "      <th>3</th>\n",
       "      <td>154</td>\n",
       "      <td>64</td>\n",
       "    </tr>\n",
       "    <tr>\n",
       "      <th>4</th>\n",
       "      <td>192</td>\n",
       "      <td>62</td>\n",
       "    </tr>\n",
       "    <tr>\n",
       "      <th>...</th>\n",
       "      <td>...</td>\n",
       "      <td>...</td>\n",
       "    </tr>\n",
       "    <tr>\n",
       "      <th>57</th>\n",
       "      <td>393</td>\n",
       "      <td>288</td>\n",
       "    </tr>\n",
       "    <tr>\n",
       "      <th>58</th>\n",
       "      <td>417</td>\n",
       "      <td>259</td>\n",
       "    </tr>\n",
       "    <tr>\n",
       "      <th>59</th>\n",
       "      <td>434</td>\n",
       "      <td>222</td>\n",
       "    </tr>\n",
       "    <tr>\n",
       "      <th>60</th>\n",
       "      <td>443</td>\n",
       "      <td>187</td>\n",
       "    </tr>\n",
       "    <tr>\n",
       "      <th>61</th>\n",
       "      <td>463</td>\n",
       "      <td>174</td>\n",
       "    </tr>\n",
       "  </tbody>\n",
       "</table>\n",
       "<p>62 rows × 2 columns</p>\n",
       "</div>"
      ],
      "text/plain": [
       "      x    y\n",
       "0    64  150\n",
       "1    84  112\n",
       "2   106   90\n",
       "3   154   64\n",
       "4   192   62\n",
       "..  ...  ...\n",
       "57  393  288\n",
       "58  417  259\n",
       "59  434  222\n",
       "60  443  187\n",
       "61  463  174\n",
       "\n",
       "[62 rows x 2 columns]"
      ]
     },
     "execution_count": 3,
     "metadata": {},
     "output_type": "execute_result"
    }
   ],
   "source": [
    "df = pd.DataFrame({'x': [64, 84, 106, 154, 192, 220, 244, 271, 275, 286, 56, 80, 101, 123, 155, 191, 242, 231, 272, 261, 299, 308, 128, 47, 47, 137, 166, 171, 194, 221, 253, 308, 332, 385, 398, 413, 435, 447, 422, 400, 389, 374, 358, 321, 274, 249, 208, 192, 182, 147, 136, 147, 182, 204, 252, 312, 349, 393, 417, 434, 443, 463],\n",
    "                   'y': [150, 112, 90, 64, 62, 82, 92, 111, 137, 161, 178, 156, 131, 104, 94, 100, 70, 114, 95, 131, 136, 124, 78, 128, 159, 186, 228, 250, 272, 287, 292, 293, 280, 256, 237, 205, 166, 137, 126, 154, 183, 214, 235, 250, 263, 263, 230, 204, 174, 205, 246, 255, 282, 298, 316, 321, 313, 288, 259, 222, 187, 174]})\n",
    "df"
   ]
  },
  {
   "cell_type": "code",
   "execution_count": 14,
   "id": "ca340d8d",
   "metadata": {},
   "outputs": [
    {
     "name": "stderr",
     "output_type": "stream",
     "text": [
      "C:\\Users\\Настя\\AppData\\Local\\Temp\\ipykernel_100164\\3102671784.py:2: RuntimeWarning: invalid value encountered in sqrt\n",
      "  distance = lambda p1, p2: np.sqrt((p1['x'] - p2['x'])*2 + (p1['y'] - p2['y'])*2)\n"
     ]
    }
   ],
   "source": [
    "m = 5\n",
    "distance = lambda p1, p2: np.sqrt((p1['x'] - p2['x'])*2 + (p1['y'] - p2['y'])*2)\n",
    "clusters = dbscan(df, m, distance)"
   ]
  },
  {
   "cell_type": "code",
   "execution_count": 15,
   "id": "c176b1c9",
   "metadata": {},
   "outputs": [
    {
     "name": "stdout",
     "output_type": "stream",
     "text": [
      "Кластер: 0\n",
      "Точки: [0, 1, 2, 3, 4, 5, 6, 8, 9, 10, 11, 12, 13, 14, 15, 16, 17, 18, 20, 21, 22, 23, 24, 25, 27, 28, 29, 30, 32, 35, 38, 39, 40, 43, 44, 45, 46, 48, 49, 51, 52, 53, 54, 56, 57, 58, 59]\n",
      "Кластер: 1\n",
      "Точки: [31, 36, 37, 41, 42]\n",
      "Кластер: 2\n",
      "Точки: [33, 34, 55, 60, 61]\n",
      "Кластер: 3\n",
      "Точки: [47, 7, 19, 26, 50]\n"
     ]
    }
   ],
   "source": [
    "for cluster, points in clusters.items():\n",
    "    print(\"Кластер:\", cluster)\n",
    "    print(\"Точки:\", points)"
   ]
  }
 ],
 "metadata": {
  "kernelspec": {
   "display_name": "Python 3 (ipykernel)",
   "language": "python",
   "name": "python3"
  },
  "language_info": {
   "codemirror_mode": {
    "name": "ipython",
    "version": 3
   },
   "file_extension": ".py",
   "mimetype": "text/x-python",
   "name": "python",
   "nbconvert_exporter": "python",
   "pygments_lexer": "ipython3",
   "version": "3.9.13"
  }
 },
 "nbformat": 4,
 "nbformat_minor": 5
}
