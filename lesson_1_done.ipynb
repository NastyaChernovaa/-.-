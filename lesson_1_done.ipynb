{
 "cells": [
  {
   "cell_type": "code",
   "execution_count": 30,
   "id": "a17074b8-6789-4ccb-9192-5703678c1d70",
   "metadata": {},
   "outputs": [],
   "source": [
    "import numpy as np\n",
    "import pandas as pd\n",
    "import matplotlib.pyplot as plt  \n",
    "import seaborn as sns\n",
    "\n",
    "%matplotlib inline "
   ]
  },
  {
   "cell_type": "markdown",
   "id": "610cb381-de63-44c4-8c81-2ad7030bc97c",
   "metadata": {
    "tags": []
   },
   "source": [
    "# Вспоминаем numpy"
   ]
  },
  {
   "cell_type": "markdown",
   "id": "4770c8ae-bdf8-4cbc-9496-a6ab0b7e1e71",
   "metadata": {},
   "source": [
    "В большинстве приложений для анализа данных основной интерес представляет следующая функциональность:\n",
    "+ быстрые векторные операции для переформатирования и очистки данных, выборки подмножеств и фильтрации, преобразований и других видов вычислений;\n",
    "+ стандартные алгоритмы работы с  массивами, например фильтрация, удаление дубликатов и теоретико-множественные операции;\n",
    "+ эффективная описательная статистика, агрегирование и  обобщение данных;\n",
    "+ выравнивание данных и реляционные операции объединения и соединения разнородных наборов данных;\n",
    "+ описание условной логики в виде выражений-массивов вместо циклов с ветвлением if-elif-else;\n",
    "+ групповые операции с данными (агрегирование, преобразование, применение функции)."
   ]
  },
  {
   "cell_type": "markdown",
   "id": "ef24ec91-f029-460f-bf5a-d2ee2724400d",
   "metadata": {},
   "source": [
    "**Сравнение быстродействия**"
   ]
  },
  {
   "cell_type": "code",
   "execution_count": 2,
   "id": "55315d98-df32-46a1-9677-f4d1a933b7e4",
   "metadata": {},
   "outputs": [],
   "source": [
    "array_ = np.arange(1000000)\n",
    "list_ = list(array_)"
   ]
  },
  {
   "cell_type": "code",
   "execution_count": 3,
   "id": "84e114a7-e476-4af2-9558-da97580a2f5e",
   "metadata": {},
   "outputs": [
    {
     "name": "stdout",
     "output_type": "stream",
     "text": [
      "Wall time: 2.01 ms\n"
     ]
    }
   ],
   "source": [
    "%%time \n",
    "array_2 = array_ * 2"
   ]
  },
  {
   "cell_type": "code",
   "execution_count": 4,
   "id": "5d472bb1-3c94-44c3-bf9d-42c9694df817",
   "metadata": {},
   "outputs": [
    {
     "name": "stdout",
     "output_type": "stream",
     "text": [
      "Wall time: 336 ms\n"
     ]
    }
   ],
   "source": [
    "%%time \n",
    "list_2 = []\n",
    "for i in list_:\n",
    "    list_2.append(i * 2)"
   ]
  },
  {
   "cell_type": "code",
   "execution_count": 5,
   "id": "ddbd9e8c-cba9-48ec-ab7f-c537f74686a8",
   "metadata": {},
   "outputs": [
    {
     "name": "stdout",
     "output_type": "stream",
     "text": [
      "Wall time: 276 ms\n"
     ]
    }
   ],
   "source": [
    "%%time \n",
    "list_2 = [i * 2 for i in list_]"
   ]
  },
  {
   "cell_type": "markdown",
   "id": "fe467d6d-d5b9-4e28-b1ba-da1e2f67b7a2",
   "metadata": {},
   "source": [
    "**Многомерные массивы**"
   ]
  },
  {
   "cell_type": "code",
   "execution_count": 6,
   "id": "3a8d55bd-8558-4cef-9406-b3443e3acf2d",
   "metadata": {},
   "outputs": [],
   "source": [
    "data = np.array([[1.5, -0.1, 3], [0, -3, 6.5]])"
   ]
  },
  {
   "cell_type": "code",
   "execution_count": 7,
   "id": "2606a171-27a6-4477-a753-9df02a7b2de0",
   "metadata": {},
   "outputs": [
    {
     "data": {
      "text/plain": [
       "array([[ 1.5, -0.1,  3. ],\n",
       "       [ 0. , -3. ,  6.5]])"
      ]
     },
     "execution_count": 7,
     "metadata": {},
     "output_type": "execute_result"
    }
   ],
   "source": [
    "data"
   ]
  },
  {
   "cell_type": "code",
   "execution_count": 8,
   "id": "97dd1cc0-513d-415a-b87a-f316233ead67",
   "metadata": {},
   "outputs": [
    {
     "data": {
      "text/plain": [
       "numpy.ndarray"
      ]
     },
     "execution_count": 8,
     "metadata": {},
     "output_type": "execute_result"
    }
   ],
   "source": [
    "type(data)"
   ]
  },
  {
   "cell_type": "code",
   "execution_count": 9,
   "id": "839140c7-1e57-49ef-9397-5ea3aeec6136",
   "metadata": {},
   "outputs": [
    {
     "data": {
      "text/plain": [
       "array([[ 3. , -0.2,  6. ],\n",
       "       [ 0. , -6. , 13. ]])"
      ]
     },
     "execution_count": 9,
     "metadata": {},
     "output_type": "execute_result"
    }
   ],
   "source": [
    "data * 2"
   ]
  },
  {
   "cell_type": "code",
   "execution_count": 10,
   "id": "eb6a3085-a763-4b67-98f5-3dec29383176",
   "metadata": {},
   "outputs": [
    {
     "data": {
      "text/plain": [
       "array([[ 3. , -0.2,  6. ],\n",
       "       [ 0. , -6. , 13. ]])"
      ]
     },
     "execution_count": 10,
     "metadata": {},
     "output_type": "execute_result"
    }
   ],
   "source": [
    "data + data"
   ]
  },
  {
   "cell_type": "markdown",
   "id": "83cf1193-f34f-4779-816a-afb1cc2d29f0",
   "metadata": {},
   "source": [
    "ndarray – это обобщенный многомерный контейнер для однородных данных, т. е. в нем могут храниться только элементы одного типа. У любого массива есть атрибут shape – кортеж, описывающий размер по каждому измерению,\n",
    "и атрибут dtype – объект, описывающий тип данных в массиве:"
   ]
  },
  {
   "cell_type": "code",
   "execution_count": 11,
   "id": "43ddfd14-73dd-442e-b78e-0f53ffcf6986",
   "metadata": {},
   "outputs": [
    {
     "data": {
      "text/plain": [
       "(2, 3)"
      ]
     },
     "execution_count": 11,
     "metadata": {},
     "output_type": "execute_result"
    }
   ],
   "source": [
    "data.shape"
   ]
  },
  {
   "cell_type": "code",
   "execution_count": 12,
   "id": "4d77de85-bcd3-434a-b5be-0325c7408e82",
   "metadata": {},
   "outputs": [
    {
     "data": {
      "text/plain": [
       "dtype('float64')"
      ]
     },
     "execution_count": 12,
     "metadata": {},
     "output_type": "execute_result"
    }
   ],
   "source": [
    "data.dtype"
   ]
  },
  {
   "cell_type": "code",
   "execution_count": 13,
   "id": "e3e882f6-1842-4715-ada6-e6bae94947a0",
   "metadata": {},
   "outputs": [
    {
     "data": {
      "text/plain": [
       "array(['str', '1'], dtype='<U11')"
      ]
     },
     "execution_count": 13,
     "metadata": {},
     "output_type": "execute_result"
    }
   ],
   "source": [
    "np.array([\"str\", 1])"
   ]
  },
  {
   "cell_type": "code",
   "execution_count": 14,
   "id": "a2595c4e-bab5-439c-9b68-15b8eedeb270",
   "metadata": {},
   "outputs": [
    {
     "ename": "UFuncTypeError",
     "evalue": "ufunc 'multiply' did not contain a loop with signature matching types (dtype('<U11'), dtype('int32')) -> None",
     "output_type": "error",
     "traceback": [
      "\u001b[1;31m---------------------------------------------------------------------------\u001b[0m",
      "\u001b[1;31mUFuncTypeError\u001b[0m                            Traceback (most recent call last)",
      "\u001b[1;32m~\\AppData\\Local\\Temp\\ipykernel_44112\\1238322981.py\u001b[0m in \u001b[0;36m<module>\u001b[1;34m\u001b[0m\n\u001b[1;32m----> 1\u001b[1;33m \u001b[0mnp\u001b[0m\u001b[1;33m.\u001b[0m\u001b[0marray\u001b[0m\u001b[1;33m(\u001b[0m\u001b[1;33m[\u001b[0m\u001b[1;34m\"str\"\u001b[0m\u001b[1;33m,\u001b[0m \u001b[1;36m1\u001b[0m\u001b[1;33m]\u001b[0m\u001b[1;33m)\u001b[0m \u001b[1;33m*\u001b[0m \u001b[1;36m2\u001b[0m\u001b[1;33m\u001b[0m\u001b[1;33m\u001b[0m\u001b[0m\n\u001b[0m",
      "\u001b[1;31mUFuncTypeError\u001b[0m: ufunc 'multiply' did not contain a loop with signature matching types (dtype('<U11'), dtype('int32')) -> None"
     ]
    }
   ],
   "source": [
    "np.array([\"str\", 1]) * 2"
   ]
  },
  {
   "cell_type": "markdown",
   "id": "85e694b3-0148-46d4-a43d-c4a8b3096911",
   "metadata": {},
   "source": [
    "**Создание массивов**"
   ]
  },
  {
   "cell_type": "code",
   "execution_count": 15,
   "id": "841f618e-a5d8-4743-9cfd-50e1fcddab69",
   "metadata": {},
   "outputs": [
    {
     "data": {
      "text/plain": [
       "array([1., 1., 1., 1., 1., 1., 1., 1., 1., 1.])"
      ]
     },
     "execution_count": 15,
     "metadata": {},
     "output_type": "execute_result"
    }
   ],
   "source": [
    "np.ones(10)"
   ]
  },
  {
   "cell_type": "code",
   "execution_count": 16,
   "id": "39e34974-7ed1-436e-9c3b-8b93536b6788",
   "metadata": {},
   "outputs": [
    {
     "data": {
      "text/plain": [
       "array([0., 0., 0., 0., 0., 0., 0., 0., 0., 0.])"
      ]
     },
     "execution_count": 16,
     "metadata": {},
     "output_type": "execute_result"
    }
   ],
   "source": [
    "np.zeros(10)"
   ]
  },
  {
   "cell_type": "code",
   "execution_count": 17,
   "id": "6c84207d-1079-4f7c-b254-1848c9153271",
   "metadata": {},
   "outputs": [
    {
     "data": {
      "text/plain": [
       "array([0, 1, 2, 3, 4, 5, 6, 7, 8, 9])"
      ]
     },
     "execution_count": 17,
     "metadata": {},
     "output_type": "execute_result"
    }
   ],
   "source": [
    "np.arange(10)"
   ]
  },
  {
   "cell_type": "markdown",
   "id": "5a1f6e04-3004-4414-a9d7-070f10e75994",
   "metadata": {},
   "source": [
    "**Задани 1**\n",
    "+ Создать единичную матрицу 4x4;\n",
    "+ Создать матрицу 4x4, заполненную 5."
   ]
  },
  {
   "cell_type": "code",
   "execution_count": 18,
   "id": "b134905a",
   "metadata": {},
   "outputs": [
    {
     "data": {
      "text/plain": [
       "array([[1., 0., 0., 0.],\n",
       "       [0., 1., 0., 0.],\n",
       "       [0., 0., 1., 0.],\n",
       "       [0., 0., 0., 1.]])"
      ]
     },
     "execution_count": 18,
     "metadata": {},
     "output_type": "execute_result"
    }
   ],
   "source": [
    "np.eye(4)"
   ]
  },
  {
   "cell_type": "code",
   "execution_count": 19,
   "id": "9cbf7ebe",
   "metadata": {},
   "outputs": [
    {
     "data": {
      "text/plain": [
       "array([[5, 5, 5, 5],\n",
       "       [5, 5, 5, 5],\n",
       "       [5, 5, 5, 5],\n",
       "       [5, 5, 5, 5]])"
      ]
     },
     "execution_count": 19,
     "metadata": {},
     "output_type": "execute_result"
    }
   ],
   "source": [
    "np.full((4,4), 5)"
   ]
  },
  {
   "cell_type": "markdown",
   "id": "782c09b0-ec98-4ac5-accf-ffe8f189e8d6",
   "metadata": {},
   "source": [
    "**Возведение элементов матрицы в квадрат и возведение матрицы в квадрат**"
   ]
  },
  {
   "cell_type": "code",
   "execution_count": 20,
   "id": "417746d1-2ee8-4986-aea6-8b85b072492e",
   "metadata": {},
   "outputs": [],
   "source": [
    "m = np.array([[1, 2, 3], [4, 5, 6], [1, 2, 3]])"
   ]
  },
  {
   "cell_type": "code",
   "execution_count": 21,
   "id": "a3c575e5-c2cb-416c-8f43-02f480c82269",
   "metadata": {},
   "outputs": [
    {
     "data": {
      "text/plain": [
       "array([[ 1,  4,  9],\n",
       "       [16, 25, 36],\n",
       "       [ 1,  4,  9]], dtype=int32)"
      ]
     },
     "execution_count": 21,
     "metadata": {},
     "output_type": "execute_result"
    }
   ],
   "source": [
    "m ** 2"
   ]
  },
  {
   "cell_type": "code",
   "execution_count": 22,
   "id": "1ab08bf0-84e7-4050-84f2-a61b74a5a14d",
   "metadata": {},
   "outputs": [
    {
     "data": {
      "text/plain": [
       "array([[12, 18, 24],\n",
       "       [30, 45, 60],\n",
       "       [12, 18, 24]])"
      ]
     },
     "execution_count": 22,
     "metadata": {},
     "output_type": "execute_result"
    }
   ],
   "source": [
    "np.dot(m, m) #матрица в квадрат, перемножение матриц"
   ]
  },
  {
   "cell_type": "code",
   "execution_count": 23,
   "id": "e64f1fda-0335-4944-91ef-626fffca3222",
   "metadata": {},
   "outputs": [
    {
     "data": {
      "text/plain": [
       "array([[12, 18, 24],\n",
       "       [30, 45, 60],\n",
       "       [12, 18, 24]])"
      ]
     },
     "execution_count": 23,
     "metadata": {},
     "output_type": "execute_result"
    }
   ],
   "source": [
    "m @ m #матрица в квадрат, перемножение матриц"
   ]
  },
  {
   "cell_type": "markdown",
   "id": "72f6fea7-3859-49b3-98f8-a13eb4fc978d",
   "metadata": {},
   "source": [
    "## Индексирование"
   ]
  },
  {
   "cell_type": "code",
   "execution_count": 24,
   "id": "fb7082e0-f14e-4b29-a6d9-833ff0482bae",
   "metadata": {},
   "outputs": [
    {
     "data": {
      "text/plain": [
       "array([1, 2, 3])"
      ]
     },
     "execution_count": 24,
     "metadata": {},
     "output_type": "execute_result"
    }
   ],
   "source": [
    "m[0]"
   ]
  },
  {
   "cell_type": "code",
   "execution_count": 25,
   "id": "6898eaf8-ee76-47dd-b837-4acf2564a848",
   "metadata": {},
   "outputs": [
    {
     "data": {
      "text/plain": [
       "1"
      ]
     },
     "execution_count": 25,
     "metadata": {},
     "output_type": "execute_result"
    }
   ],
   "source": [
    "m[0, 0]"
   ]
  },
  {
   "cell_type": "code",
   "execution_count": 26,
   "id": "1f261aa8-773c-496c-8c04-ef20c9794df2",
   "metadata": {},
   "outputs": [
    {
     "data": {
      "text/plain": [
       "array([2, 3])"
      ]
     },
     "execution_count": 26,
     "metadata": {},
     "output_type": "execute_result"
    }
   ],
   "source": [
    "m[0][1:]"
   ]
  },
  {
   "cell_type": "markdown",
   "id": "7b80c57a-e367-47d5-b300-03e8c1284152",
   "metadata": {},
   "source": [
    "**Булево индексирование**"
   ]
  },
  {
   "cell_type": "code",
   "execution_count": 27,
   "id": "6593f80a-cdb0-407c-a9cf-07c781536319",
   "metadata": {},
   "outputs": [
    {
     "data": {
      "text/plain": [
       "array([[ True, False,  True],\n",
       "       [False,  True, False],\n",
       "       [ True, False,  True]])"
      ]
     },
     "execution_count": 27,
     "metadata": {},
     "output_type": "execute_result"
    }
   ],
   "source": [
    "m%2 == 1"
   ]
  },
  {
   "cell_type": "code",
   "execution_count": 28,
   "id": "fb799fa5-a2f3-4236-bc61-ef179ca1d326",
   "metadata": {},
   "outputs": [
    {
     "data": {
      "text/plain": [
       "array([1, 3, 5, 1, 3])"
      ]
     },
     "execution_count": 28,
     "metadata": {},
     "output_type": "execute_result"
    }
   ],
   "source": [
    "m[m%2 == 1] #нечетные элементы"
   ]
  },
  {
   "cell_type": "code",
   "execution_count": 29,
   "id": "9670aca8-a231-4285-b115-cbd2002c189c",
   "metadata": {},
   "outputs": [
    {
     "data": {
      "text/plain": [
       "array([2, 4, 6, 2])"
      ]
     },
     "execution_count": 29,
     "metadata": {},
     "output_type": "execute_result"
    }
   ],
   "source": [
    "m[~m%2 == 1] #четные элементы"
   ]
  },
  {
   "cell_type": "code",
   "execution_count": 30,
   "id": "9689accd-fd05-4c73-b306-61eb9417c8a1",
   "metadata": {},
   "outputs": [
    {
     "data": {
      "text/plain": [
       "array([[  1, 100,   3],\n",
       "       [100,   5, 100],\n",
       "       [  1, 100,   3]])"
      ]
     },
     "execution_count": 30,
     "metadata": {},
     "output_type": "execute_result"
    }
   ],
   "source": [
    "m[~m%2 == 1] = 100 #четные элементы заменяем на 100\n",
    "m"
   ]
  },
  {
   "cell_type": "code",
   "execution_count": 31,
   "id": "7fe2209f-ea99-4df8-913e-17a0af069c4d",
   "metadata": {},
   "outputs": [
    {
     "data": {
      "text/plain": [
       "array([[  1, 100,   1],\n",
       "       [100,   5, 100],\n",
       "       [  3, 100,   3]])"
      ]
     },
     "execution_count": 31,
     "metadata": {},
     "output_type": "execute_result"
    }
   ],
   "source": [
    "m.T #транспонируем"
   ]
  },
  {
   "cell_type": "code",
   "execution_count": 32,
   "id": "df66ef8d-f920-4260-95d0-f800586f6e63",
   "metadata": {},
   "outputs": [
    {
     "data": {
      "text/plain": [
       "array([ 0,  1,  2,  3,  4,  5,  6,  7,  8,  9, 10, 11, 12, 13, 14])"
      ]
     },
     "execution_count": 32,
     "metadata": {},
     "output_type": "execute_result"
    }
   ],
   "source": [
    "np.arange(15)"
   ]
  },
  {
   "cell_type": "code",
   "execution_count": 33,
   "id": "f829abea-abf9-4906-9af4-350ce1f5971f",
   "metadata": {},
   "outputs": [
    {
     "data": {
      "text/plain": [
       "array([[ 0,  1,  2,  3,  4],\n",
       "       [ 5,  6,  7,  8,  9],\n",
       "       [10, 11, 12, 13, 14]])"
      ]
     },
     "execution_count": 33,
     "metadata": {},
     "output_type": "execute_result"
    }
   ],
   "source": [
    "arr = np.arange(15).reshape((3, 5))\n",
    "arr"
   ]
  },
  {
   "cell_type": "code",
   "execution_count": 34,
   "id": "7f4e28ec-cdad-4e3b-a5f0-b475d55777a2",
   "metadata": {},
   "outputs": [
    {
     "data": {
      "text/plain": [
       "array([[ 0,  5, 10],\n",
       "       [ 1,  6, 11],\n",
       "       [ 2,  7, 12],\n",
       "       [ 3,  8, 13],\n",
       "       [ 4,  9, 14]])"
      ]
     },
     "execution_count": 34,
     "metadata": {},
     "output_type": "execute_result"
    }
   ],
   "source": [
    "arr.swapaxes(0, 1) #транспонируем"
   ]
  },
  {
   "cell_type": "code",
   "execution_count": 35,
   "id": "063f1725-e4cd-466f-80c1-22a2be7f8cc2",
   "metadata": {},
   "outputs": [
    {
     "data": {
      "text/plain": [
       "array([[ 0,  5, 10],\n",
       "       [ 1,  6, 11],\n",
       "       [ 2,  7, 12],\n",
       "       [ 3,  8, 13],\n",
       "       [ 4,  9, 14]])"
      ]
     },
     "execution_count": 35,
     "metadata": {},
     "output_type": "execute_result"
    }
   ],
   "source": [
    "arr.T #транспонируем"
   ]
  },
  {
   "cell_type": "markdown",
   "id": "66484a6a-3a65-464b-80f3-0fe8662b6e82",
   "metadata": {},
   "source": [
    "**Задание 2**\\\n",
    "Отобрать те строки data, где на соответствующих позициях в names имя Леша или Петя."
   ]
  },
  {
   "cell_type": "code",
   "execution_count": 36,
   "id": "94834e08-7e97-43e5-b80c-acb9725a78f8",
   "metadata": {},
   "outputs": [],
   "source": [
    "names = np.array([\"Настя\", \"Петя\", \"Вася\", \"Юра\", \"Паша\", \"Леша\", \"Леша\"])\n",
    "data = np.array([[4, 8], [1, 5], [-3, 9], [99, 0], [13, 22], [12, 49], [31, 4]])"
   ]
  },
  {
   "cell_type": "code",
   "execution_count": 38,
   "id": "b75a98e7-840a-4eaa-b501-063be6569f6c",
   "metadata": {},
   "outputs": [
    {
     "data": {
      "text/plain": [
       "array([[ 1,  5],\n",
       "       [12, 49],\n",
       "       [31,  4]])"
      ]
     },
     "execution_count": 38,
     "metadata": {},
     "output_type": "execute_result"
    }
   ],
   "source": [
    "# ваш ответ здесь\n",
    "data[(names == 'Леша') | (names == 'Петя')]"
   ]
  },
  {
   "cell_type": "markdown",
   "id": "a40fdf77-84ff-40ca-92fb-ffa743fea620",
   "metadata": {},
   "source": [
    "## Быстрые поэлементные операции над массивами"
   ]
  },
  {
   "cell_type": "code",
   "execution_count": 39,
   "id": "d98259a6-cb3a-4802-b12c-c1fbb145f5e7",
   "metadata": {},
   "outputs": [],
   "source": [
    "arr = np.arange(10)"
   ]
  },
  {
   "cell_type": "code",
   "execution_count": 40,
   "id": "414f543e-349f-4774-9cbf-60540c740fc0",
   "metadata": {},
   "outputs": [
    {
     "data": {
      "text/plain": [
       "array([0.        , 1.        , 1.41421356, 1.73205081, 2.        ,\n",
       "       2.23606798, 2.44948974, 2.64575131, 2.82842712, 3.        ])"
      ]
     },
     "execution_count": 40,
     "metadata": {},
     "output_type": "execute_result"
    }
   ],
   "source": [
    "np.sqrt(arr)"
   ]
  },
  {
   "cell_type": "code",
   "execution_count": 41,
   "id": "50858433-26cf-4339-bb86-920b3396f7c9",
   "metadata": {},
   "outputs": [
    {
     "data": {
      "text/plain": [
       "array([1.00000000e+00, 2.71828183e+00, 7.38905610e+00, 2.00855369e+01,\n",
       "       5.45981500e+01, 1.48413159e+02, 4.03428793e+02, 1.09663316e+03,\n",
       "       2.98095799e+03, 8.10308393e+03])"
      ]
     },
     "execution_count": 41,
     "metadata": {},
     "output_type": "execute_result"
    }
   ],
   "source": [
    "np.exp(arr)"
   ]
  },
  {
   "cell_type": "code",
   "execution_count": 42,
   "id": "3008da7c-7a5d-4e0b-b139-3e58173f72a5",
   "metadata": {},
   "outputs": [
    {
     "data": {
      "text/plain": [
       "array([3.33333333e-01, 1.00000000e+00, 2.46301870e+00, 6.69517897e+00,\n",
       "       1.81993833e+01, 4.94710530e+01, 1.34476264e+02, 3.65544386e+02,\n",
       "       9.93652662e+02, 2.70102798e+03])"
      ]
     },
     "execution_count": 42,
     "metadata": {},
     "output_type": "execute_result"
    }
   ],
   "source": [
    "np.maximum(np.sqrt(arr), np.exp(arr)/3)"
   ]
  },
  {
   "cell_type": "code",
   "execution_count": 43,
   "id": "0bda8b29-c1c5-46a3-bbf1-0118e25ae34b",
   "metadata": {},
   "outputs": [
    {
     "data": {
      "text/plain": [
       "array([0., 1., 1., 1., 2., 2., 2., 2., 2., 3.])"
      ]
     },
     "execution_count": 43,
     "metadata": {},
     "output_type": "execute_result"
    }
   ],
   "source": [
    "np.floor(np.sqrt(arr)) #округление в мешьшую сторону"
   ]
  },
  {
   "cell_type": "code",
   "execution_count": 45,
   "id": "219be6ae-e40c-4a2c-b74b-ca02ecebf58a",
   "metadata": {},
   "outputs": [
    {
     "data": {
      "text/plain": [
       "array([0., 1., 2., 2., 2., 3., 3., 3., 3., 3.])"
      ]
     },
     "execution_count": 45,
     "metadata": {},
     "output_type": "execute_result"
    }
   ],
   "source": [
    "np.ceil(np.sqrt(arr)) #округление в большую сторону"
   ]
  },
  {
   "cell_type": "code",
   "execution_count": 46,
   "id": "8d6bf0d4-d712-42fd-ac76-4eb6f69b2382",
   "metadata": {},
   "outputs": [
    {
     "data": {
      "text/plain": [
       "array([0., 1., 1., 2., 2., 2., 2., 3., 3., 3.])"
      ]
     },
     "execution_count": 46,
     "metadata": {},
     "output_type": "execute_result"
    }
   ],
   "source": [
    "np.round(np.sqrt(arr))"
   ]
  },
  {
   "cell_type": "markdown",
   "id": "d7cc522e-b4f0-4711-b899-88a105c4fac1",
   "metadata": {},
   "source": [
    "## Программирование на основе массивов"
   ]
  },
  {
   "cell_type": "code",
   "execution_count": 47,
   "id": "123b06bd-1c51-4030-ac23-842c9941f15c",
   "metadata": {},
   "outputs": [
    {
     "data": {
      "text/plain": [
       "array([[-5.  , -5.  , -5.  , ..., -5.  , -5.  , -5.  ],\n",
       "       [-4.99, -4.99, -4.99, ..., -4.99, -4.99, -4.99],\n",
       "       [-4.98, -4.98, -4.98, ..., -4.98, -4.98, -4.98],\n",
       "       ...,\n",
       "       [ 4.97,  4.97,  4.97, ...,  4.97,  4.97,  4.97],\n",
       "       [ 4.98,  4.98,  4.98, ...,  4.98,  4.98,  4.98],\n",
       "       [ 4.99,  4.99,  4.99, ...,  4.99,  4.99,  4.99]])"
      ]
     },
     "execution_count": 47,
     "metadata": {},
     "output_type": "execute_result"
    }
   ],
   "source": [
    "points = np.arange(-5, 5, 0.01) # 100 равноотстоящих точек\n",
    "xs, ys = np.meshgrid(points, points)\n",
    "ys"
   ]
  },
  {
   "cell_type": "code",
   "execution_count": 48,
   "id": "b96c75d6-f7ae-4079-96a1-1b67cfb87f34",
   "metadata": {},
   "outputs": [
    {
     "data": {
      "text/plain": [
       "array([[-5.  , -4.99, -4.98, ...,  4.97,  4.98,  4.99],\n",
       "       [-5.  , -4.99, -4.98, ...,  4.97,  4.98,  4.99],\n",
       "       [-5.  , -4.99, -4.98, ...,  4.97,  4.98,  4.99],\n",
       "       ...,\n",
       "       [-5.  , -4.99, -4.98, ...,  4.97,  4.98,  4.99],\n",
       "       [-5.  , -4.99, -4.98, ...,  4.97,  4.98,  4.99],\n",
       "       [-5.  , -4.99, -4.98, ...,  4.97,  4.98,  4.99]])"
      ]
     },
     "execution_count": 48,
     "metadata": {},
     "output_type": "execute_result"
    }
   ],
   "source": [
    "xs"
   ]
  },
  {
   "cell_type": "code",
   "execution_count": 49,
   "id": "63a16c78-f877-4e7a-a626-4b8284bce9ae",
   "metadata": {},
   "outputs": [],
   "source": [
    "z = np.sqrt(xs ** 2 + ys ** 2)"
   ]
  },
  {
   "cell_type": "code",
   "execution_count": 50,
   "id": "ce99dfab-599e-4433-a517-818eb8d65ebd",
   "metadata": {},
   "outputs": [],
   "source": [
    "xarr = np.array([1.1, 1.2, 1.3, 1.4, 1.5])\n",
    "yarr = np.array([2.1, 2.2, 2.3, 2.4, 2.5])\n",
    "cond = np.array([True, False, True, True, False])"
   ]
  },
  {
   "cell_type": "code",
   "execution_count": 51,
   "id": "843eb6e6-12f9-4f8d-bb87-d23b716e136b",
   "metadata": {},
   "outputs": [
    {
     "data": {
      "text/plain": [
       "[1.1, 2.2, 1.3, 1.4, 2.5]"
      ]
     },
     "execution_count": 51,
     "metadata": {},
     "output_type": "execute_result"
    }
   ],
   "source": [
    "result = [(x if c else y) for x, y, c in zip(xarr, yarr, cond)]\n",
    "result"
   ]
  },
  {
   "cell_type": "code",
   "execution_count": 52,
   "id": "32025a8f-3366-4f9c-888c-62c8a2115c8e",
   "metadata": {},
   "outputs": [],
   "source": [
    "result = np.where(cond, xarr, yarr)"
   ]
  },
  {
   "cell_type": "code",
   "execution_count": 53,
   "id": "499d1391-6093-4601-ac54-f8f3ef6af3a9",
   "metadata": {},
   "outputs": [
    {
     "data": {
      "text/plain": [
       "array([1.1, 1.2, 1.3, 2. , 2. ])"
      ]
     },
     "execution_count": 53,
     "metadata": {},
     "output_type": "execute_result"
    }
   ],
   "source": [
    "np.where(xarr > 1.3, 2, xarr) #где больше 1,3, заменеям на 2, если меньше, то выводим это число"
   ]
  },
  {
   "cell_type": "markdown",
   "id": "b8bab28b-6939-4269-84d0-f8661bf2f526",
   "metadata": {},
   "source": [
    "**Задача 3**\\\n",
    "Сгенерировать массив из случайных положительных чисел произвольной длины. Вывести элементы, которые больше среднего арифметического."
   ]
  },
  {
   "cell_type": "code",
   "execution_count": 58,
   "id": "100439e1",
   "metadata": {},
   "outputs": [
    {
     "data": {
      "text/plain": [
       "array([38, 13, 82, 73, 35, 72, 62,  2, 62, 95, 99, 66, 42,  1, 35,  3, 58,\n",
       "       34, 89, 42, 29,  7, 35, 62, 20, 95, 68, 44, 35, 36, 79, 35, 96, 86,\n",
       "       12, 63, 14, 68,  6, 98, 12, 41, 52, 17, 68, 16, 28,  7, 81, 42, 82,\n",
       "       79, 49, 59, 66, 42, 96, 30, 67,  2, 37, 97, 27, 57, 26, 34, 10, 26,\n",
       "       50, 29, 79, 55, 63, 38, 87, 33, 84, 97, 23, 46, 78, 80,  2, 38, 60,\n",
       "       34, 80, 18, 42, 33, 51])"
      ]
     },
     "execution_count": 58,
     "metadata": {},
     "output_type": "execute_result"
    }
   ],
   "source": [
    "a = np.random.randint(1, 100, np.random.randint(1, 100))\n",
    "a"
   ]
  },
  {
   "cell_type": "code",
   "execution_count": 60,
   "id": "b47d08be",
   "metadata": {},
   "outputs": [
    {
     "data": {
      "text/plain": [
       "48.8021978021978"
      ]
     },
     "execution_count": 60,
     "metadata": {},
     "output_type": "execute_result"
    }
   ],
   "source": [
    "a.mean()"
   ]
  },
  {
   "cell_type": "code",
   "execution_count": 59,
   "id": "1b1c88d1",
   "metadata": {},
   "outputs": [
    {
     "data": {
      "text/plain": [
       "array([82, 73, 72, 62, 62, 95, 99, 66, 58, 89, 62, 95, 68, 79, 96, 86, 63,\n",
       "       68, 98, 52, 68, 81, 82, 79, 49, 59, 66, 96, 67, 97, 57, 50, 79, 55,\n",
       "       63, 87, 84, 97, 78, 80, 60, 80, 51])"
      ]
     },
     "execution_count": 59,
     "metadata": {},
     "output_type": "execute_result"
    }
   ],
   "source": [
    "a[a > a.mean()]"
   ]
  },
  {
   "cell_type": "markdown",
   "id": "952e4a55-5562-4f42-8713-b2c6ac7526f8",
   "metadata": {},
   "source": [
    "**Задача 4**\\\n",
    "Сгенерировать массив из 20 случайных элементов, элементы которого лежат в интервале [0, 10].\n",
    "+ Определить количество элементов, отличающихся от минимального на 5.\n",
    "+ Найти среднее арифметическое всех четных элементов массива, стоящих на нечетных местах."
   ]
  },
  {
   "cell_type": "code",
   "execution_count": 83,
   "id": "0b1d63a8",
   "metadata": {},
   "outputs": [
    {
     "data": {
      "text/plain": [
       "array([ 3,  7,  4,  5,  8,  8,  2,  9,  9,  1,  8,  3,  5,  9,  6,  1,  7,\n",
       "        6, 10,  5])"
      ]
     },
     "execution_count": 83,
     "metadata": {},
     "output_type": "execute_result"
    }
   ],
   "source": [
    "a = np.random.randint(0, 11, 20)\n",
    "a"
   ]
  },
  {
   "cell_type": "code",
   "execution_count": 84,
   "id": "50b7a544",
   "metadata": {},
   "outputs": [
    {
     "data": {
      "text/plain": [
       "1"
      ]
     },
     "execution_count": 84,
     "metadata": {},
     "output_type": "execute_result"
    }
   ],
   "source": [
    "a.min()"
   ]
  },
  {
   "cell_type": "code",
   "execution_count": 85,
   "id": "5cb3ae52",
   "metadata": {},
   "outputs": [
    {
     "data": {
      "text/plain": [
       "2"
      ]
     },
     "execution_count": 85,
     "metadata": {},
     "output_type": "execute_result"
    }
   ],
   "source": [
    "np.sum(a == a.min() + 5)"
   ]
  },
  {
   "cell_type": "markdown",
   "id": "a037d570",
   "metadata": {},
   "source": [
    " "
   ]
  },
  {
   "cell_type": "code",
   "execution_count": 101,
   "id": "22d6f59c",
   "metadata": {},
   "outputs": [
    {
     "data": {
      "text/plain": [
       "array([7, 5, 8, 9, 1, 3, 9, 1, 6, 5])"
      ]
     },
     "execution_count": 101,
     "metadata": {},
     "output_type": "execute_result"
    }
   ],
   "source": [
    "a_1 = a[1::2]\n",
    "a_1"
   ]
  },
  {
   "cell_type": "code",
   "execution_count": 102,
   "id": "ddc33923",
   "metadata": {},
   "outputs": [
    {
     "data": {
      "text/plain": [
       "7.0"
      ]
     },
     "execution_count": 102,
     "metadata": {},
     "output_type": "execute_result"
    }
   ],
   "source": [
    "a_1[a_1 % 2 != 1].mean()"
   ]
  },
  {
   "cell_type": "markdown",
   "id": "06b8cde0-991c-4230-abe7-8b969c38a504",
   "metadata": {},
   "source": [
    "**Задача 5**\\\n",
    "Сгенерировать матрицу A размером 5 на 5, элементы которой лежат в интервале [1, 10].\n",
    "+ Возвести в квадрат максимальный элемент матрицы.\n",
    "+ Все четные числа заменить на 0."
   ]
  },
  {
   "cell_type": "code",
   "execution_count": 103,
   "id": "e289d90d",
   "metadata": {},
   "outputs": [
    {
     "data": {
      "text/plain": [
       "array([[ 9,  6,  3,  6,  1],\n",
       "       [ 5,  7,  5,  4,  9],\n",
       "       [ 8,  9,  6,  9,  3],\n",
       "       [10,  5, 10,  7,  7],\n",
       "       [ 8, 10,  3, 10,  1]])"
      ]
     },
     "execution_count": 103,
     "metadata": {},
     "output_type": "execute_result"
    }
   ],
   "source": [
    "m_a = np.random.randint(1, 11, (5, 5))\n",
    "m_a"
   ]
  },
  {
   "cell_type": "code",
   "execution_count": 104,
   "id": "9503c930",
   "metadata": {},
   "outputs": [
    {
     "data": {
      "text/plain": [
       "array([[  9,   6,   3,   6,   1],\n",
       "       [  5,   7,   5,   4,   9],\n",
       "       [  8,   9,   6,   9,   3],\n",
       "       [100,   5, 100,   7,   7],\n",
       "       [  8, 100,   3, 100,   1]])"
      ]
     },
     "execution_count": 104,
     "metadata": {},
     "output_type": "execute_result"
    }
   ],
   "source": [
    "np.where(m_a == m_a.max(), m_a*m_a, m_a)"
   ]
  },
  {
   "cell_type": "code",
   "execution_count": 105,
   "id": "9105b9b5",
   "metadata": {},
   "outputs": [
    {
     "data": {
      "text/plain": [
       "array([[9, 0, 3, 0, 1],\n",
       "       [5, 7, 5, 0, 9],\n",
       "       [0, 9, 0, 9, 3],\n",
       "       [0, 5, 0, 7, 7],\n",
       "       [0, 0, 3, 0, 1]])"
      ]
     },
     "execution_count": 105,
     "metadata": {},
     "output_type": "execute_result"
    }
   ],
   "source": [
    "np.where(m_a%2 == 0, 0, m_a)"
   ]
  },
  {
   "cell_type": "markdown",
   "id": "e2dcb4bb-9ed1-4f74-be4f-de65556bbf38",
   "metadata": {},
   "source": [
    "**Задача 6**\\\n",
    "Сгенерировать матрицу B размером 5 на 5, элементы которой лежат в интервале [-5, 5]. Отрицательные элементы матрицы заменить на число отрицательных элементов в строке, в которой они находятся."
   ]
  },
  {
   "cell_type": "code",
   "execution_count": 28,
   "id": "8aa23fa1",
   "metadata": {},
   "outputs": [
    {
     "data": {
      "text/plain": [
       "array([[ 5,  3,  0,  2, -2],\n",
       "       [ 5, -3, -4,  3, -4],\n",
       "       [-4, -3,  2,  2, -5],\n",
       "       [ 4,  2,  5,  1,  2],\n",
       "       [ 0,  5,  4,  4,  0]])"
      ]
     },
     "execution_count": 28,
     "metadata": {},
     "output_type": "execute_result"
    }
   ],
   "source": [
    "m_a = np.random.randint(-5, 6, (5, 5))\n",
    "m_a"
   ]
  },
  {
   "cell_type": "code",
   "execution_count": 29,
   "id": "81530e46",
   "metadata": {},
   "outputs": [
    {
     "data": {
      "text/plain": [
       "array([[5, 3, 0, 2, 1],\n",
       "       [5, 3, 3, 3, 3],\n",
       "       [3, 3, 2, 2, 3],\n",
       "       [4, 2, 5, 1, 2],\n",
       "       [0, 5, 4, 4, 0]])"
      ]
     },
     "execution_count": 29,
     "metadata": {},
     "output_type": "execute_result"
    }
   ],
   "source": [
    "for i in range(len(m_a)):\n",
    "    k = np.sum(m_a[i] < 0) #число отрацательных значений\n",
    "    m_a[i] = np.where(m_a[i] < 0, k, m_a[i])\n",
    "m_a"
   ]
  },
  {
   "cell_type": "markdown",
   "id": "fab10d3e-9e74-44aa-bb0f-d203bc75789e",
   "metadata": {},
   "source": [
    "# Вспоминаем pandas несильно"
   ]
  },
  {
   "cell_type": "markdown",
   "id": "bb8bc5c9-d95c-45a6-8d59-354f948f78e4",
   "metadata": {},
   "source": [
    "Какие отличия между исследовательскими университетами и школами искусств?\n",
    "Используя данные из файла colleges, выдвините предположения о возможных различиях между двумя типами институтов.\n",
    "Для это проведите описательный анализ исходных данных.  Выдвините несколько гипотез.\n",
    "Например, \"В университеты поступить сложнее (процент принятых меньше)\"\n",
    "\n",
    "Формат файла\n",
    "+ School -  название школы\n",
    "+ School_Type - тип школы (школа искусств  'LibArts', исследовательский университет 'Univ')\n",
    "+ SAT - медиана объединенных значений Math и Verbal SAT  студентов\n",
    "+ Acceptance: - % принятых абитуриентов\n",
    "+ $/Student  -  Деньги, расходуемые на одного студента в среднем\n",
    "+ Top 10% -  % студентов в топ 10% выпускных классов\n",
    "+ %PhD -  %  факультетов, имеющих PhD\n",
    "+ Grad%: % студентов, которые успешно завершили обучение"
   ]
  },
  {
   "cell_type": "code",
   "execution_count": 31,
   "id": "4aa369f4-6c1e-430d-9fff-ada1a10508b8",
   "metadata": {},
   "outputs": [],
   "source": [
    "df = pd.read_csv('colleges.txt', delimiter='\\t')"
   ]
  },
  {
   "cell_type": "code",
   "execution_count": 32,
   "id": "08d5d60f-6d5b-4767-b858-6eb3dfd1ad70",
   "metadata": {},
   "outputs": [
    {
     "data": {
      "text/html": [
       "<div>\n",
       "<style scoped>\n",
       "    .dataframe tbody tr th:only-of-type {\n",
       "        vertical-align: middle;\n",
       "    }\n",
       "\n",
       "    .dataframe tbody tr th {\n",
       "        vertical-align: top;\n",
       "    }\n",
       "\n",
       "    .dataframe thead th {\n",
       "        text-align: right;\n",
       "    }\n",
       "</style>\n",
       "<table border=\"1\" class=\"dataframe\">\n",
       "  <thead>\n",
       "    <tr style=\"text-align: right;\">\n",
       "      <th></th>\n",
       "      <th>School</th>\n",
       "      <th>School_Type</th>\n",
       "      <th>SAT</th>\n",
       "      <th>Acceptance</th>\n",
       "      <th>$/Student</th>\n",
       "      <th>Top 10%</th>\n",
       "      <th>%PhD</th>\n",
       "      <th>Grad%</th>\n",
       "    </tr>\n",
       "  </thead>\n",
       "  <tbody>\n",
       "    <tr>\n",
       "      <th>0</th>\n",
       "      <td>Amherst</td>\n",
       "      <td>Lib Arts</td>\n",
       "      <td>1315</td>\n",
       "      <td>22</td>\n",
       "      <td>26636</td>\n",
       "      <td>85</td>\n",
       "      <td>81</td>\n",
       "      <td>93</td>\n",
       "    </tr>\n",
       "    <tr>\n",
       "      <th>1</th>\n",
       "      <td>Swarthmore</td>\n",
       "      <td>Lib Arts</td>\n",
       "      <td>1310</td>\n",
       "      <td>24</td>\n",
       "      <td>27487</td>\n",
       "      <td>78</td>\n",
       "      <td>93</td>\n",
       "      <td>88</td>\n",
       "    </tr>\n",
       "    <tr>\n",
       "      <th>2</th>\n",
       "      <td>Williams</td>\n",
       "      <td>Lib Arts</td>\n",
       "      <td>1336</td>\n",
       "      <td>28</td>\n",
       "      <td>23772</td>\n",
       "      <td>86</td>\n",
       "      <td>90</td>\n",
       "      <td>93</td>\n",
       "    </tr>\n",
       "    <tr>\n",
       "      <th>3</th>\n",
       "      <td>Bowdoin</td>\n",
       "      <td>Lib Arts</td>\n",
       "      <td>1300</td>\n",
       "      <td>24</td>\n",
       "      <td>25703</td>\n",
       "      <td>78</td>\n",
       "      <td>95</td>\n",
       "      <td>90</td>\n",
       "    </tr>\n",
       "    <tr>\n",
       "      <th>4</th>\n",
       "      <td>Wellesley</td>\n",
       "      <td>Lib Arts</td>\n",
       "      <td>1250</td>\n",
       "      <td>49</td>\n",
       "      <td>27879</td>\n",
       "      <td>76</td>\n",
       "      <td>91</td>\n",
       "      <td>86</td>\n",
       "    </tr>\n",
       "  </tbody>\n",
       "</table>\n",
       "</div>"
      ],
      "text/plain": [
       "       School School_Type   SAT  Acceptance  $/Student  Top 10%  %PhD  Grad%\n",
       "0     Amherst    Lib Arts  1315          22      26636       85    81     93\n",
       "1  Swarthmore    Lib Arts  1310          24      27487       78    93     88\n",
       "2    Williams    Lib Arts  1336          28      23772       86    90     93\n",
       "3     Bowdoin    Lib Arts  1300          24      25703       78    95     90\n",
       "4   Wellesley    Lib Arts  1250          49      27879       76    91     86"
      ]
     },
     "execution_count": 32,
     "metadata": {},
     "output_type": "execute_result"
    }
   ],
   "source": [
    "df.head()"
   ]
  },
  {
   "cell_type": "markdown",
   "id": "7642825c-5811-4136-ad20-11234d61fd37",
   "metadata": {},
   "source": [
    "В сведения о датафрейме входит общая информация о нём вроде заголовка, количества значений, типов данных столбцов."
   ]
  },
  {
   "cell_type": "code",
   "execution_count": 113,
   "id": "346d0b4b-348f-48d3-8d7d-c605378357ea",
   "metadata": {},
   "outputs": [
    {
     "name": "stdout",
     "output_type": "stream",
     "text": [
      "<class 'pandas.core.frame.DataFrame'>\n",
      "RangeIndex: 50 entries, 0 to 49\n",
      "Data columns (total 8 columns):\n",
      " #   Column       Non-Null Count  Dtype \n",
      "---  ------       --------------  ----- \n",
      " 0   School       50 non-null     object\n",
      " 1   School_Type  50 non-null     object\n",
      " 2   SAT          50 non-null     int64 \n",
      " 3   Acceptance   50 non-null     int64 \n",
      " 4   $/Student    50 non-null     int64 \n",
      " 5   Top 10%      50 non-null     int64 \n",
      " 6   %PhD         50 non-null     int64 \n",
      " 7   Grad%        50 non-null     int64 \n",
      "dtypes: int64(6), object(2)\n",
      "memory usage: 3.2+ KB\n"
     ]
    }
   ],
   "source": [
    "df.info()"
   ]
  },
  {
   "cell_type": "markdown",
   "id": "dc5d50cd-47ee-4461-9435-a87b12476e13",
   "metadata": {},
   "source": [
    "Вывод статистических сведений о датафрейме:"
   ]
  },
  {
   "cell_type": "code",
   "execution_count": 114,
   "id": "b2e7acef-b4e0-4589-ba61-e65e7740cba1",
   "metadata": {},
   "outputs": [
    {
     "data": {
      "text/html": [
       "<div>\n",
       "<style scoped>\n",
       "    .dataframe tbody tr th:only-of-type {\n",
       "        vertical-align: middle;\n",
       "    }\n",
       "\n",
       "    .dataframe tbody tr th {\n",
       "        vertical-align: top;\n",
       "    }\n",
       "\n",
       "    .dataframe thead th {\n",
       "        text-align: right;\n",
       "    }\n",
       "</style>\n",
       "<table border=\"1\" class=\"dataframe\">\n",
       "  <thead>\n",
       "    <tr style=\"text-align: right;\">\n",
       "      <th></th>\n",
       "      <th>SAT</th>\n",
       "      <th>Acceptance</th>\n",
       "      <th>$/Student</th>\n",
       "      <th>Top 10%</th>\n",
       "      <th>%PhD</th>\n",
       "      <th>Grad%</th>\n",
       "    </tr>\n",
       "  </thead>\n",
       "  <tbody>\n",
       "    <tr>\n",
       "      <th>count</th>\n",
       "      <td>50.000000</td>\n",
       "      <td>50.000000</td>\n",
       "      <td>50.000000</td>\n",
       "      <td>50.000000</td>\n",
       "      <td>50.000000</td>\n",
       "      <td>50.000000</td>\n",
       "    </tr>\n",
       "    <tr>\n",
       "      <th>mean</th>\n",
       "      <td>1263.960000</td>\n",
       "      <td>37.840000</td>\n",
       "      <td>30247.200000</td>\n",
       "      <td>74.440000</td>\n",
       "      <td>90.560000</td>\n",
       "      <td>83.480000</td>\n",
       "    </tr>\n",
       "    <tr>\n",
       "      <th>std</th>\n",
       "      <td>62.329591</td>\n",
       "      <td>13.363612</td>\n",
       "      <td>15266.172682</td>\n",
       "      <td>13.515162</td>\n",
       "      <td>8.258972</td>\n",
       "      <td>7.557237</td>\n",
       "    </tr>\n",
       "    <tr>\n",
       "      <th>min</th>\n",
       "      <td>1109.000000</td>\n",
       "      <td>17.000000</td>\n",
       "      <td>17520.000000</td>\n",
       "      <td>47.000000</td>\n",
       "      <td>58.000000</td>\n",
       "      <td>61.000000</td>\n",
       "    </tr>\n",
       "    <tr>\n",
       "      <th>25%</th>\n",
       "      <td>1225.000000</td>\n",
       "      <td>25.750000</td>\n",
       "      <td>20182.250000</td>\n",
       "      <td>65.000000</td>\n",
       "      <td>86.250000</td>\n",
       "      <td>77.250000</td>\n",
       "    </tr>\n",
       "    <tr>\n",
       "      <th>50%</th>\n",
       "      <td>1264.000000</td>\n",
       "      <td>36.000000</td>\n",
       "      <td>24994.500000</td>\n",
       "      <td>76.500000</td>\n",
       "      <td>93.000000</td>\n",
       "      <td>85.500000</td>\n",
       "    </tr>\n",
       "    <tr>\n",
       "      <th>75%</th>\n",
       "      <td>1304.500000</td>\n",
       "      <td>47.750000</td>\n",
       "      <td>36803.750000</td>\n",
       "      <td>85.000000</td>\n",
       "      <td>97.750000</td>\n",
       "      <td>89.000000</td>\n",
       "    </tr>\n",
       "    <tr>\n",
       "      <th>max</th>\n",
       "      <td>1400.000000</td>\n",
       "      <td>67.000000</td>\n",
       "      <td>102262.000000</td>\n",
       "      <td>98.000000</td>\n",
       "      <td>100.000000</td>\n",
       "      <td>95.000000</td>\n",
       "    </tr>\n",
       "  </tbody>\n",
       "</table>\n",
       "</div>"
      ],
      "text/plain": [
       "               SAT  Acceptance      $/Student    Top 10%        %PhD  \\\n",
       "count    50.000000   50.000000      50.000000  50.000000   50.000000   \n",
       "mean   1263.960000   37.840000   30247.200000  74.440000   90.560000   \n",
       "std      62.329591   13.363612   15266.172682  13.515162    8.258972   \n",
       "min    1109.000000   17.000000   17520.000000  47.000000   58.000000   \n",
       "25%    1225.000000   25.750000   20182.250000  65.000000   86.250000   \n",
       "50%    1264.000000   36.000000   24994.500000  76.500000   93.000000   \n",
       "75%    1304.500000   47.750000   36803.750000  85.000000   97.750000   \n",
       "max    1400.000000   67.000000  102262.000000  98.000000  100.000000   \n",
       "\n",
       "           Grad%  \n",
       "count  50.000000  \n",
       "mean   83.480000  \n",
       "std     7.557237  \n",
       "min    61.000000  \n",
       "25%    77.250000  \n",
       "50%    85.500000  \n",
       "75%    89.000000  \n",
       "max    95.000000  "
      ]
     },
     "execution_count": 114,
     "metadata": {},
     "output_type": "execute_result"
    }
   ],
   "source": [
    "df.describe()"
   ]
  },
  {
   "cell_type": "markdown",
   "id": "f230c49a-85ab-4bf2-8b6a-e3cc15544bbe",
   "metadata": {},
   "source": [
    "**Задание 1**\\\n",
    "Проверить являются ли выборки связными."
   ]
  },
  {
   "cell_type": "markdown",
   "id": "74bb194a",
   "metadata": {},
   "source": [
    "нет"
   ]
  },
  {
   "cell_type": "markdown",
   "id": "3342d448-2170-49cc-8560-51fc1391db3a",
   "metadata": {},
   "source": [
    "**Задание 2**\\\n",
    "Постройте ящики с усами по каждой из характеристик (SAT ... Grad%) для каждого типа институтов. Какие из следующих утверждений верны (речь идет о наблюдаемых данных)?"
   ]
  },
  {
   "cell_type": "code",
   "execution_count": 33,
   "id": "1cc7e4f3",
   "metadata": {},
   "outputs": [
    {
     "data": {
      "text/plain": [
       "<AxesSubplot:title={'center':'Acceptance'}, xlabel='School_Type'>"
      ]
     },
     "execution_count": 33,
     "metadata": {},
     "output_type": "execute_result"
    },
    {
     "data": {
      "image/png": "[encoded data removed]",
      "text/plain": [
       "<Figure size 640x480 with 1 Axes>"
      ]
     },
     "metadata": {},
     "output_type": "display_data"
    }
   ],
   "source": [
    "df.boxplot(column='Acceptance', by='School_Type')"
   ]
  },
  {
   "cell_type": "code",
   "execution_count": 4,
   "id": "11dbfaeb",
   "metadata": {},
   "outputs": [
    {
     "data": {
      "text/plain": [
       "<AxesSubplot:title={'center':'SAT'}, xlabel='School_Type'>"
      ]
     },
     "execution_count": 4,
     "metadata": {},
     "output_type": "execute_result"
    },
    {
     "data": {
      "image/png": "[encoded data removed]",
      "text/plain": [
       "<Figure size 640x480 with 1 Axes>"
      ]
     },
     "metadata": {},
     "output_type": "display_data"
    }
   ],
   "source": [
    "df.boxplot(column='SAT', by='School_Type')"
   ]
  },
  {
   "cell_type": "code",
   "execution_count": 5,
   "id": "09381099",
   "metadata": {},
   "outputs": [
    {
     "data": {
      "text/plain": [
       "<AxesSubplot:title={'center':'Grad%'}, xlabel='School_Type'>"
      ]
     },
     "execution_count": 5,
     "metadata": {},
     "output_type": "execute_result"
    },
    {
     "data": {
      "image/png": "[encoded data removed]",
      "text/plain": [
       "<Figure size 640x480 with 1 Axes>"
      ]
     },
     "metadata": {},
     "output_type": "display_data"
    }
   ],
   "source": [
    "df.boxplot(column='Grad%', by='School_Type')"
   ]
  },
  {
   "cell_type": "code",
   "execution_count": 6,
   "id": "947cbaa3",
   "metadata": {},
   "outputs": [
    {
     "data": {
      "text/plain": [
       "<AxesSubplot:title={'center':'$/Student'}, xlabel='School_Type'>"
      ]
     },
     "execution_count": 6,
     "metadata": {},
     "output_type": "execute_result"
    },
    {
     "data": {
      "image/png": "[encoded data removed]",
      "text/plain": [
       "<Figure size 640x480 with 1 Axes>"
      ]
     },
     "metadata": {},
     "output_type": "display_data"
    }
   ],
   "source": [
    "df.boxplot(column='$/Student', by='School_Type')"
   ]
  },
  {
   "cell_type": "code",
   "execution_count": 34,
   "id": "3c2519fb-8814-49ed-8638-4b658cd18bb1",
   "metadata": {
    "tags": []
   },
   "outputs": [
    {
     "data": {
      "text/html": [
       "<input type=\"checkbox\" id=\"0\">\n",
       "<label for=\"0\">% процент принятых студентов в школах искусств заметно ниже, чем в университетах</label><br>\n",
       "\n",
       "<input type=\"checkbox\" id=\"1\">\n",
       "<label for=\"1\">Разброс средств, расходуемых в среднем на одного студента, в школах искусств больше, чем в университетах</label><br>\n",
       "\n",
       "<input type=\"checkbox\" id=\"2\">\n",
       "<label for=\"2\">% процент принятых студентов в школах искусств и в университетах примерно равны</label><br>\n",
       "\n",
       "<input type=\"checkbox\" id=\"3\">\n",
       "<label for=\"3\">Разброс баллов SAT в университетах ниже, чем в школах искусств</label><br>\n",
       "\n",
       "<input type=\"checkbox\" id=\"0\" checked>\n",
       "<label for=\"0\">Разброс баллов SAT в университетах выше, чем в школах искусств</label><br>\n",
       "\n",
       "<input type=\"checkbox\" id=\"0\" checked>\n",
       "<label for=\"0\">Разброс средств, расходуемых в среднем на одного студента, в школах искусств меньше, чем в университетах</label><br>\n",
       "\n",
       "<input type=\"checkbox\" id=\"0\" checked>\n",
       "<label for=\"0\">В одном из университетов тратят сильно больше денег в среднем на одного студента, чем в других университетах</label><br>\n",
       "\n",
       "<input type=\"checkbox\" id=\"0\">\n",
       "<label for=\"0\">Разброс баллов SAT в университетах и школах искусств практически не различается</label><br>\n",
       "\n",
       "<input type=\"checkbox\" id=\"0\" checked>\n",
       "<label for=\"0\">% процент принятых студентов в школах искусств заметно выше, чем в университетах</label><br>\n"
      ],
      "text/plain": [
       "<IPython.core.display.HTML object>"
      ]
     },
     "metadata": {},
     "output_type": "display_data"
    }
   ],
   "source": [
    "%%HTML\n",
    "<input type=\"checkbox\" id=\"0\">\n",
    "<label for=\"0\">% процент принятых студентов в школах искусств заметно ниже, чем в университетах</label><br>\n",
    "\n",
    "<input type=\"checkbox\" id=\"1\">\n",
    "<label for=\"1\">Разброс средств, расходуемых в среднем на одного студента, в школах искусств больше, чем в университетах</label><br>\n",
    "\n",
    "<input type=\"checkbox\" id=\"2\">\n",
    "<label for=\"2\">% процент принятых студентов в школах искусств и в университетах примерно равны</label><br>\n",
    "\n",
    "<input type=\"checkbox\" id=\"3\">\n",
    "<label for=\"3\">Разброс баллов SAT в университетах ниже, чем в школах искусств</label><br>\n",
    "\n",
    "<input type=\"checkbox\" id=\"0\" checked>\n",
    "<label for=\"0\">Разброс баллов SAT в университетах выше, чем в школах искусств</label><br>\n",
    "\n",
    "<input type=\"checkbox\" id=\"0\" checked>\n",
    "<label for=\"0\">Разброс средств, расходуемых в среднем на одного студента, в школах искусств меньше, чем в университетах</label><br>\n",
    "\n",
    "<input type=\"checkbox\" id=\"0\" checked>\n",
    "<label for=\"0\">В одном из университетов тратят сильно больше денег в среднем на одного студента, чем в других университетах</label><br>\n",
    "\n",
    "<input type=\"checkbox\" id=\"0\">\n",
    "<label for=\"0\">Разброс баллов SAT в университетах и школах искусств практически не различается</label><br>\n",
    "\n",
    "<input type=\"checkbox\" id=\"0\" checked>\n",
    "<label for=\"0\">% процент принятых студентов в школах искусств заметно выше, чем в университетах</label><br>"
   ]
  },
  {
   "cell_type": "markdown",
   "id": "fb292e51-1a1d-44b6-ab6c-8fd3ff0acdc4",
   "metadata": {},
   "source": [
    "**Задание 3**\\\n",
    "Постройте гистограммы по каждой из характеристик (SAT ... Grad%) для каждого типа институтов. Какие из следующих утверждений верны (речь идет о наблюдаемых данных)?\n",
    "\n",
    "Hint: для каждой пары связанных утверждений, надо выбрать одно из них."
   ]
  },
  {
   "cell_type": "code",
   "execution_count": 5,
   "id": "72c49aa6",
   "metadata": {},
   "outputs": [
    {
     "data": {
      "text/plain": [
       "array([<AxesSubplot:title={'center':'Lib Arts'}>,\n",
       "       <AxesSubplot:title={'center':'Univ'}>], dtype=object)"
      ]
     },
     "execution_count": 5,
     "metadata": {},
     "output_type": "execute_result"
    },
    {
     "data": {
      "image/png": "[encoded data removed]",
      "text/plain": [
       "<Figure size 640x480 with 2 Axes>"
      ]
     },
     "metadata": {},
     "output_type": "display_data"
    }
   ],
   "source": [
    "df.hist(column='%PhD', by='School_Type')"
   ]
  },
  {
   "cell_type": "code",
   "execution_count": 6,
   "id": "c63ad5b7",
   "metadata": {},
   "outputs": [
    {
     "data": {
      "text/plain": [
       "array([<AxesSubplot:title={'center':'Lib Arts'}>,\n",
       "       <AxesSubplot:title={'center':'Univ'}>], dtype=object)"
      ]
     },
     "execution_count": 6,
     "metadata": {},
     "output_type": "execute_result"
    },
    {
     "data": {
      "image/png": "[encoded data removed]",
      "text/plain": [
       "<Figure size 640x480 with 2 Axes>"
      ]
     },
     "metadata": {},
     "output_type": "display_data"
    }
   ],
   "source": [
    "df.hist(column='Grad%', by='School_Type')"
   ]
  },
  {
   "cell_type": "code",
   "execution_count": 7,
   "id": "9cbdd212-41f7-43bd-b580-6a0572783b7a",
   "metadata": {},
   "outputs": [
    {
     "data": {
      "text/html": [
       "<input type=\"checkbox\" id=\"0\" checked>\n",
       "<label for=\"0\"></label>Распределение процента факультетов с Phd в школах искусств напоминает \"нормальное\"<br>\n",
       "\n",
       "<input type=\"checkbox\" id=\"1\">\n",
       "<label for=\"1\">Распределение процента факультетов с Phd в университетах напоминает \"нормальное\"</label><br>\n",
       "\n",
       "<input type=\"checkbox\" id=\"2\">\n",
       "<label for=\"2\"></label>Гистограмма процента студентов, которые успешно завершили университеты, имеет несколько пиков<br>\n",
       "\n",
       "<input type=\"checkbox\" id=\"3\" checked>\n",
       "<label for=\"3\">Гистограмма процента студентов, которые успешно завершили школы искусств, имеет несколько пиков</label><br>\n",
       "\n",
       "<input type=\"checkbox\" id=\"5\" checked>\n",
       "<label for=\"5\">В университетах процент факультетов с Phd выше</label><br>\n",
       "\n",
       "<input type=\"checkbox\" id=\"4\">\n",
       "<label for=\"4\">В школах искусств процент факультетов с Phd выше</label><br>\n"
      ],
      "text/plain": [
       "<IPython.core.display.HTML object>"
      ]
     },
     "metadata": {},
     "output_type": "display_data"
    }
   ],
   "source": [
    "%%HTML\n",
    "<input type=\"checkbox\" id=\"0\" checked>\n",
    "<label for=\"0\"></label>Распределение процента факультетов с Phd в школах искусств напоминает \"нормальное\"<br>\n",
    "\n",
    "<input type=\"checkbox\" id=\"1\">\n",
    "<label for=\"1\">Распределение процента факультетов с Phd в университетах напоминает \"нормальное\"</label><br>\n",
    "\n",
    "<input type=\"checkbox\" id=\"2\">\n",
    "<label for=\"2\"></label>Гистограмма процента студентов, которые успешно завершили университеты, имеет несколько пиков<br>\n",
    "\n",
    "<input type=\"checkbox\" id=\"3\" checked>\n",
    "<label for=\"3\">Гистограмма процента студентов, которые успешно завершили школы искусств, имеет несколько пиков</label><br>\n",
    "\n",
    "<input type=\"checkbox\" id=\"5\" checked>\n",
    "<label for=\"5\">В университетах процент факультетов с Phd выше</label><br>\n",
    "\n",
    "<input type=\"checkbox\" id=\"4\">\n",
    "<label for=\"4\">В школах искусств процент факультетов с Phd выше</label><br>"
   ]
  },
  {
   "cell_type": "markdown",
   "id": "a89a8af4-11cb-42c1-8da7-beaf90ee1163",
   "metadata": {},
   "source": [
    "**Задание 4**\\\n",
    "Найдите:\n",
    "+ выборочное среднее SAT школ искусств;\n",
    "+ 3й выборочный квартиль Acceptance университетов;\n",
    "+ название института(колледжа), в котором тратят денег в среднем на одного студента больше, чем в других институтах(колледжах)."
   ]
  },
  {
   "cell_type": "code",
   "execution_count": 129,
   "id": "b63f0a91-148c-48af-92dd-1e376b5b3648",
   "metadata": {},
   "outputs": [
    {
     "data": {
      "text/plain": [
       "1256.64"
      ]
     },
     "execution_count": 129,
     "metadata": {},
     "output_type": "execute_result"
    }
   ],
   "source": [
    "df[df['School_Type'] == 'Lib Arts']['SAT'].mean()"
   ]
  },
  {
   "cell_type": "code",
   "execution_count": 131,
   "id": "29229c27-67c1-4a74-8314-0c811c0a37f1",
   "metadata": {},
   "outputs": [
    {
     "data": {
      "text/plain": [
       "45.0"
      ]
     },
     "execution_count": 131,
     "metadata": {},
     "output_type": "execute_result"
    }
   ],
   "source": [
    "np.percentile(df[df['School_Type'] == 'Univ']['Acceptance'], 75)"
   ]
  },
  {
   "cell_type": "code",
   "execution_count": 141,
   "id": "6e83556c",
   "metadata": {},
   "outputs": [
    {
     "data": {
      "text/plain": [
       "29    Cal Tech\n",
       "Name: School, dtype: object"
      ]
     },
     "execution_count": 141,
     "metadata": {},
     "output_type": "execute_result"
    }
   ],
   "source": [
    "df[df['$/Student'] == df['$/Student'].max()]['School']"
   ]
  }
 ],
 "metadata": {
  "kernelspec": {
   "display_name": "Python 3 (ipykernel)",
   "language": "python",
   "name": "python3"
  },
  "language_info": {
   "codemirror_mode": {
    "name": "ipython",
    "version": 3
   },
   "file_extension": ".py",
   "mimetype": "text/x-python",
   "name": "python",
   "nbconvert_exporter": "python",
   "pygments_lexer": "ipython3",
   "version": "3.9.13"
  }
 },
 "nbformat": 4,
 "nbformat_minor": 5
}
